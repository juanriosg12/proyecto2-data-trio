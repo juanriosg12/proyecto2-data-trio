{
 "cells": [
  {
   "cell_type": "markdown",
   "id": "f9418b2a",
   "metadata": {
    "papermill": {
     "duration": 0.012662,
     "end_time": "2023-04-29T13:29:31.273772",
     "exception": false,
     "start_time": "2023-04-29T13:29:31.261110",
     "status": "completed"
    },
    "tags": []
   },
   "source": [
    "### Importar Libraries"
   ]
  },
  {
   "cell_type": "code",
   "execution_count": 1,
   "id": "f98d0106",
   "metadata": {
    "execution": {
     "iopub.execute_input": "2023-04-29T13:29:31.302138Z",
     "iopub.status.busy": "2023-04-29T13:29:31.301405Z",
     "iopub.status.idle": "2023-04-29T13:29:33.164112Z",
     "shell.execute_reply": "2023-04-29T13:29:33.162399Z"
    },
    "papermill": {
     "duration": 1.880783,
     "end_time": "2023-04-29T13:29:33.167438",
     "exception": false,
     "start_time": "2023-04-29T13:29:31.286655",
     "status": "completed"
    },
    "tags": []
   },
   "outputs": [],
   "source": [
    "import numpy as np\n",
    "import pandas as pd"
   ]
  },
  {
   "cell_type": "markdown",
   "id": "65f164b0",
   "metadata": {
    "papermill": {
     "duration": 0.013005,
     "end_time": "2023-04-29T13:29:33.195383",
     "exception": false,
     "start_time": "2023-04-29T13:29:33.182378",
     "status": "completed"
    },
    "tags": []
   },
   "source": [
    "### Importar Dataset"
   ]
  },
  {
   "cell_type": "code",
   "execution_count": 2,
   "id": "a9a7ce94",
   "metadata": {},
   "outputs": [],
   "source": [
    "df = pd.read_csv(\"C:/Users/USER/OneDrive - Universidad de los andes/Analitica comp/Proyecto 2/bank-full.csv\", sep= \";\")"
   ]
  },
  {
   "cell_type": "code",
   "execution_count": 3,
   "id": "159cc7e7",
   "metadata": {},
   "outputs": [
    {
     "data": {
      "text/plain": [
       "(45211, 17)"
      ]
     },
     "execution_count": 3,
     "metadata": {},
     "output_type": "execute_result"
    }
   ],
   "source": [
    "df.shape"
   ]
  },
  {
   "cell_type": "code",
   "execution_count": 4,
   "id": "b3afe95d",
   "metadata": {},
   "outputs": [
    {
     "data": {
      "text/html": [
       "<div>\n",
       "<style scoped>\n",
       "    .dataframe tbody tr th:only-of-type {\n",
       "        vertical-align: middle;\n",
       "    }\n",
       "\n",
       "    .dataframe tbody tr th {\n",
       "        vertical-align: top;\n",
       "    }\n",
       "\n",
       "    .dataframe thead th {\n",
       "        text-align: right;\n",
       "    }\n",
       "</style>\n",
       "<table border=\"1\" class=\"dataframe\">\n",
       "  <thead>\n",
       "    <tr style=\"text-align: right;\">\n",
       "      <th></th>\n",
       "      <th>age</th>\n",
       "      <th>job</th>\n",
       "      <th>marital</th>\n",
       "      <th>education</th>\n",
       "      <th>default</th>\n",
       "      <th>balance</th>\n",
       "      <th>housing</th>\n",
       "      <th>loan</th>\n",
       "      <th>contact</th>\n",
       "      <th>day</th>\n",
       "      <th>month</th>\n",
       "      <th>duration</th>\n",
       "      <th>campaign</th>\n",
       "      <th>pdays</th>\n",
       "      <th>previous</th>\n",
       "      <th>poutcome</th>\n",
       "      <th>y</th>\n",
       "    </tr>\n",
       "  </thead>\n",
       "  <tbody>\n",
       "    <tr>\n",
       "      <th>0</th>\n",
       "      <td>58</td>\n",
       "      <td>management</td>\n",
       "      <td>married</td>\n",
       "      <td>tertiary</td>\n",
       "      <td>no</td>\n",
       "      <td>2143</td>\n",
       "      <td>yes</td>\n",
       "      <td>no</td>\n",
       "      <td>unknown</td>\n",
       "      <td>5</td>\n",
       "      <td>may</td>\n",
       "      <td>261</td>\n",
       "      <td>1</td>\n",
       "      <td>-1</td>\n",
       "      <td>0</td>\n",
       "      <td>unknown</td>\n",
       "      <td>no</td>\n",
       "    </tr>\n",
       "    <tr>\n",
       "      <th>1</th>\n",
       "      <td>44</td>\n",
       "      <td>technician</td>\n",
       "      <td>single</td>\n",
       "      <td>secondary</td>\n",
       "      <td>no</td>\n",
       "      <td>29</td>\n",
       "      <td>yes</td>\n",
       "      <td>no</td>\n",
       "      <td>unknown</td>\n",
       "      <td>5</td>\n",
       "      <td>may</td>\n",
       "      <td>151</td>\n",
       "      <td>1</td>\n",
       "      <td>-1</td>\n",
       "      <td>0</td>\n",
       "      <td>unknown</td>\n",
       "      <td>no</td>\n",
       "    </tr>\n",
       "    <tr>\n",
       "      <th>2</th>\n",
       "      <td>33</td>\n",
       "      <td>entrepreneur</td>\n",
       "      <td>married</td>\n",
       "      <td>secondary</td>\n",
       "      <td>no</td>\n",
       "      <td>2</td>\n",
       "      <td>yes</td>\n",
       "      <td>yes</td>\n",
       "      <td>unknown</td>\n",
       "      <td>5</td>\n",
       "      <td>may</td>\n",
       "      <td>76</td>\n",
       "      <td>1</td>\n",
       "      <td>-1</td>\n",
       "      <td>0</td>\n",
       "      <td>unknown</td>\n",
       "      <td>no</td>\n",
       "    </tr>\n",
       "    <tr>\n",
       "      <th>3</th>\n",
       "      <td>47</td>\n",
       "      <td>blue-collar</td>\n",
       "      <td>married</td>\n",
       "      <td>unknown</td>\n",
       "      <td>no</td>\n",
       "      <td>1506</td>\n",
       "      <td>yes</td>\n",
       "      <td>no</td>\n",
       "      <td>unknown</td>\n",
       "      <td>5</td>\n",
       "      <td>may</td>\n",
       "      <td>92</td>\n",
       "      <td>1</td>\n",
       "      <td>-1</td>\n",
       "      <td>0</td>\n",
       "      <td>unknown</td>\n",
       "      <td>no</td>\n",
       "    </tr>\n",
       "    <tr>\n",
       "      <th>4</th>\n",
       "      <td>33</td>\n",
       "      <td>unknown</td>\n",
       "      <td>single</td>\n",
       "      <td>unknown</td>\n",
       "      <td>no</td>\n",
       "      <td>1</td>\n",
       "      <td>no</td>\n",
       "      <td>no</td>\n",
       "      <td>unknown</td>\n",
       "      <td>5</td>\n",
       "      <td>may</td>\n",
       "      <td>198</td>\n",
       "      <td>1</td>\n",
       "      <td>-1</td>\n",
       "      <td>0</td>\n",
       "      <td>unknown</td>\n",
       "      <td>no</td>\n",
       "    </tr>\n",
       "  </tbody>\n",
       "</table>\n",
       "</div>"
      ],
      "text/plain": [
       "   age           job  marital  education default  balance housing loan  \\\n",
       "0   58    management  married   tertiary      no     2143     yes   no   \n",
       "1   44    technician   single  secondary      no       29     yes   no   \n",
       "2   33  entrepreneur  married  secondary      no        2     yes  yes   \n",
       "3   47   blue-collar  married    unknown      no     1506     yes   no   \n",
       "4   33       unknown   single    unknown      no        1      no   no   \n",
       "\n",
       "   contact  day month  duration  campaign  pdays  previous poutcome   y  \n",
       "0  unknown    5   may       261         1     -1         0  unknown  no  \n",
       "1  unknown    5   may       151         1     -1         0  unknown  no  \n",
       "2  unknown    5   may        76         1     -1         0  unknown  no  \n",
       "3  unknown    5   may        92         1     -1         0  unknown  no  \n",
       "4  unknown    5   may       198         1     -1         0  unknown  no  "
      ]
     },
     "execution_count": 4,
     "metadata": {},
     "output_type": "execute_result"
    }
   ],
   "source": [
    "df.head()"
   ]
  },
  {
   "cell_type": "code",
   "execution_count": 5,
   "id": "7c9acd64",
   "metadata": {},
   "outputs": [
    {
     "name": "stdout",
     "output_type": "stream",
     "text": [
      "age           int64\n",
      "job          object\n",
      "marital      object\n",
      "education    object\n",
      "default      object\n",
      "balance       int64\n",
      "housing      object\n",
      "loan         object\n",
      "contact      object\n",
      "day           int64\n",
      "month        object\n",
      "duration      int64\n",
      "campaign      int64\n",
      "pdays         int64\n",
      "previous      int64\n",
      "poutcome     object\n",
      "y            object\n",
      "dtype: object\n"
     ]
    }
   ],
   "source": [
    "# Obtener el tipo de datos de cada columna\n",
    "tipos_de_datos = df.dtypes\n",
    "\n",
    "# Mostrar los tipos de datos de cada columna\n",
    "print(tipos_de_datos)"
   ]
  },
  {
   "cell_type": "code",
   "execution_count": 6,
   "id": "13ebaa62",
   "metadata": {},
   "outputs": [
    {
     "data": {
      "text/html": [
       "<div>\n",
       "<style scoped>\n",
       "    .dataframe tbody tr th:only-of-type {\n",
       "        vertical-align: middle;\n",
       "    }\n",
       "\n",
       "    .dataframe tbody tr th {\n",
       "        vertical-align: top;\n",
       "    }\n",
       "\n",
       "    .dataframe thead th {\n",
       "        text-align: right;\n",
       "    }\n",
       "</style>\n",
       "<table border=\"1\" class=\"dataframe\">\n",
       "  <thead>\n",
       "    <tr style=\"text-align: right;\">\n",
       "      <th></th>\n",
       "      <th>age</th>\n",
       "      <th>balance</th>\n",
       "      <th>day</th>\n",
       "      <th>duration</th>\n",
       "      <th>campaign</th>\n",
       "      <th>pdays</th>\n",
       "      <th>previous</th>\n",
       "    </tr>\n",
       "  </thead>\n",
       "  <tbody>\n",
       "    <tr>\n",
       "      <th>count</th>\n",
       "      <td>45211.000000</td>\n",
       "      <td>45211.000000</td>\n",
       "      <td>45211.000000</td>\n",
       "      <td>45211.000000</td>\n",
       "      <td>45211.000000</td>\n",
       "      <td>45211.000000</td>\n",
       "      <td>45211.000000</td>\n",
       "    </tr>\n",
       "    <tr>\n",
       "      <th>mean</th>\n",
       "      <td>40.936210</td>\n",
       "      <td>1362.272058</td>\n",
       "      <td>15.806419</td>\n",
       "      <td>258.163080</td>\n",
       "      <td>2.763841</td>\n",
       "      <td>40.197828</td>\n",
       "      <td>0.580323</td>\n",
       "    </tr>\n",
       "    <tr>\n",
       "      <th>std</th>\n",
       "      <td>10.618762</td>\n",
       "      <td>3044.765829</td>\n",
       "      <td>8.322476</td>\n",
       "      <td>257.527812</td>\n",
       "      <td>3.098021</td>\n",
       "      <td>100.128746</td>\n",
       "      <td>2.303441</td>\n",
       "    </tr>\n",
       "    <tr>\n",
       "      <th>min</th>\n",
       "      <td>18.000000</td>\n",
       "      <td>-8019.000000</td>\n",
       "      <td>1.000000</td>\n",
       "      <td>0.000000</td>\n",
       "      <td>1.000000</td>\n",
       "      <td>-1.000000</td>\n",
       "      <td>0.000000</td>\n",
       "    </tr>\n",
       "    <tr>\n",
       "      <th>25%</th>\n",
       "      <td>33.000000</td>\n",
       "      <td>72.000000</td>\n",
       "      <td>8.000000</td>\n",
       "      <td>103.000000</td>\n",
       "      <td>1.000000</td>\n",
       "      <td>-1.000000</td>\n",
       "      <td>0.000000</td>\n",
       "    </tr>\n",
       "    <tr>\n",
       "      <th>50%</th>\n",
       "      <td>39.000000</td>\n",
       "      <td>448.000000</td>\n",
       "      <td>16.000000</td>\n",
       "      <td>180.000000</td>\n",
       "      <td>2.000000</td>\n",
       "      <td>-1.000000</td>\n",
       "      <td>0.000000</td>\n",
       "    </tr>\n",
       "    <tr>\n",
       "      <th>75%</th>\n",
       "      <td>48.000000</td>\n",
       "      <td>1428.000000</td>\n",
       "      <td>21.000000</td>\n",
       "      <td>319.000000</td>\n",
       "      <td>3.000000</td>\n",
       "      <td>-1.000000</td>\n",
       "      <td>0.000000</td>\n",
       "    </tr>\n",
       "    <tr>\n",
       "      <th>max</th>\n",
       "      <td>95.000000</td>\n",
       "      <td>102127.000000</td>\n",
       "      <td>31.000000</td>\n",
       "      <td>4918.000000</td>\n",
       "      <td>63.000000</td>\n",
       "      <td>871.000000</td>\n",
       "      <td>275.000000</td>\n",
       "    </tr>\n",
       "  </tbody>\n",
       "</table>\n",
       "</div>"
      ],
      "text/plain": [
       "                age        balance           day      duration      campaign  \\\n",
       "count  45211.000000   45211.000000  45211.000000  45211.000000  45211.000000   \n",
       "mean      40.936210    1362.272058     15.806419    258.163080      2.763841   \n",
       "std       10.618762    3044.765829      8.322476    257.527812      3.098021   \n",
       "min       18.000000   -8019.000000      1.000000      0.000000      1.000000   \n",
       "25%       33.000000      72.000000      8.000000    103.000000      1.000000   \n",
       "50%       39.000000     448.000000     16.000000    180.000000      2.000000   \n",
       "75%       48.000000    1428.000000     21.000000    319.000000      3.000000   \n",
       "max       95.000000  102127.000000     31.000000   4918.000000     63.000000   \n",
       "\n",
       "              pdays      previous  \n",
       "count  45211.000000  45211.000000  \n",
       "mean      40.197828      0.580323  \n",
       "std      100.128746      2.303441  \n",
       "min       -1.000000      0.000000  \n",
       "25%       -1.000000      0.000000  \n",
       "50%       -1.000000      0.000000  \n",
       "75%       -1.000000      0.000000  \n",
       "max      871.000000    275.000000  "
      ]
     },
     "execution_count": 6,
     "metadata": {},
     "output_type": "execute_result"
    }
   ],
   "source": [
    "df.describe()"
   ]
  },
  {
   "cell_type": "code",
   "execution_count": 7,
   "id": "0ffa96ef",
   "metadata": {},
   "outputs": [
    {
     "data": {
      "text/plain": [
       "age          0\n",
       "job          0\n",
       "marital      0\n",
       "education    0\n",
       "default      0\n",
       "balance      0\n",
       "housing      0\n",
       "loan         0\n",
       "contact      0\n",
       "day          0\n",
       "month        0\n",
       "duration     0\n",
       "campaign     0\n",
       "pdays        0\n",
       "previous     0\n",
       "poutcome     0\n",
       "y            0\n",
       "dtype: int64"
      ]
     },
     "execution_count": 7,
     "metadata": {},
     "output_type": "execute_result"
    }
   ],
   "source": [
    "df.isna().sum()"
   ]
  },
  {
   "cell_type": "code",
   "execution_count": 8,
   "id": "9c9b6978",
   "metadata": {
    "execution": {
     "iopub.execute_input": "2023-04-29T13:29:33.656790Z",
     "iopub.status.busy": "2023-04-29T13:29:33.656369Z",
     "iopub.status.idle": "2023-04-29T13:29:33.665202Z",
     "shell.execute_reply": "2023-04-29T13:29:33.663940Z"
    },
    "papermill": {
     "duration": 0.027655,
     "end_time": "2023-04-29T13:29:33.668416",
     "exception": false,
     "start_time": "2023-04-29T13:29:33.640761",
     "status": "completed"
    },
    "tags": []
   },
   "outputs": [
    {
     "name": "stdout",
     "output_type": "stream",
     "text": [
      "Number of Duplicate Entries: 0\n"
     ]
    }
   ],
   "source": [
    "# número de duplicados\n",
    "duplicates = len(df[df.duplicated()])\n",
    "print(f'Number of Duplicate Entries: {duplicates}')"
   ]
  },
  {
   "cell_type": "code",
   "execution_count": 9,
   "id": "08cb1c04",
   "metadata": {},
   "outputs": [
    {
     "name": "stdout",
     "output_type": "stream",
     "text": [
      "Number of Missing Values: 0\n"
     ]
    }
   ],
   "source": [
    "# número de valores perdidos\n",
    "missing_values = df.isnull().sum().sum()\n",
    "print(f'Number of Missing Values: {missing_values}')"
   ]
  },
  {
   "cell_type": "markdown",
   "id": "b1d6e198",
   "metadata": {},
   "source": [
    "Limpieza de datos\n",
    "\n"
   ]
  },
  {
   "cell_type": "markdown",
   "id": "4f4b25f4",
   "metadata": {},
   "source": [
    "Se confuguran los tipos de datos al formato adecuado"
   ]
  },
  {
   "cell_type": "markdown",
   "id": "a1625e2c",
   "metadata": {},
   "source": [
    "Conversión de características"
   ]
  },
  {
   "cell_type": "code",
   "execution_count": 10,
   "id": "92e24c46",
   "metadata": {},
   "outputs": [
    {
     "data": {
      "text/plain": [
       "job\n",
       "blue-collar      9732\n",
       "management       9458\n",
       "technician       7597\n",
       "admin.           5171\n",
       "services         4154\n",
       "retired          2264\n",
       "self-employed    1579\n",
       "entrepreneur     1487\n",
       "unemployed       1303\n",
       "housemaid        1240\n",
       "student           938\n",
       "unknown           288\n",
       "Name: count, dtype: int64"
      ]
     },
     "execution_count": 10,
     "metadata": {},
     "output_type": "execute_result"
    }
   ],
   "source": [
    "df[\"job\"].value_counts()"
   ]
  },
  {
   "cell_type": "code",
   "execution_count": 11,
   "id": "18c734ed",
   "metadata": {},
   "outputs": [
    {
     "data": {
      "text/plain": [
       "marital\n",
       "married     27214\n",
       "single      12790\n",
       "divorced     5207\n",
       "Name: count, dtype: int64"
      ]
     },
     "execution_count": 11,
     "metadata": {},
     "output_type": "execute_result"
    }
   ],
   "source": [
    "df[\"marital\"].value_counts()"
   ]
  },
  {
   "cell_type": "code",
   "execution_count": 12,
   "id": "70f220ee",
   "metadata": {},
   "outputs": [
    {
     "data": {
      "text/plain": [
       "education\n",
       "secondary    23202\n",
       "tertiary     13301\n",
       "primary       6851\n",
       "unknown       1857\n",
       "Name: count, dtype: int64"
      ]
     },
     "execution_count": 12,
     "metadata": {},
     "output_type": "execute_result"
    }
   ],
   "source": [
    "df[\"education\"].value_counts()"
   ]
  },
  {
   "cell_type": "code",
   "execution_count": 13,
   "id": "9bbfc25a",
   "metadata": {},
   "outputs": [
    {
     "data": {
      "text/plain": [
       "default\n",
       "no     44396\n",
       "yes      815\n",
       "Name: count, dtype: int64"
      ]
     },
     "execution_count": 13,
     "metadata": {},
     "output_type": "execute_result"
    }
   ],
   "source": [
    "df[\"default\"].value_counts()"
   ]
  },
  {
   "cell_type": "code",
   "execution_count": 14,
   "id": "ae4f4955",
   "metadata": {},
   "outputs": [
    {
     "data": {
      "text/plain": [
       "housing\n",
       "yes    25130\n",
       "no     20081\n",
       "Name: count, dtype: int64"
      ]
     },
     "execution_count": 14,
     "metadata": {},
     "output_type": "execute_result"
    }
   ],
   "source": [
    "df[\"housing\"].value_counts()"
   ]
  },
  {
   "cell_type": "code",
   "execution_count": 15,
   "id": "b72471f9",
   "metadata": {},
   "outputs": [
    {
     "data": {
      "text/plain": [
       "loan\n",
       "no     37967\n",
       "yes     7244\n",
       "Name: count, dtype: int64"
      ]
     },
     "execution_count": 15,
     "metadata": {},
     "output_type": "execute_result"
    }
   ],
   "source": [
    "df[\"loan\"].value_counts()"
   ]
  },
  {
   "cell_type": "code",
   "execution_count": 16,
   "id": "9f439fc1",
   "metadata": {},
   "outputs": [
    {
     "data": {
      "text/plain": [
       "contact\n",
       "cellular     29285\n",
       "unknown      13020\n",
       "telephone     2906\n",
       "Name: count, dtype: int64"
      ]
     },
     "execution_count": 16,
     "metadata": {},
     "output_type": "execute_result"
    }
   ],
   "source": [
    "df[\"contact\"].value_counts()"
   ]
  },
  {
   "cell_type": "code",
   "execution_count": 17,
   "id": "84149cce",
   "metadata": {},
   "outputs": [
    {
     "data": {
      "text/plain": [
       "month\n",
       "may    13766\n",
       "jul     6895\n",
       "aug     6247\n",
       "jun     5341\n",
       "nov     3970\n",
       "apr     2932\n",
       "feb     2649\n",
       "jan     1403\n",
       "oct      738\n",
       "sep      579\n",
       "mar      477\n",
       "dec      214\n",
       "Name: count, dtype: int64"
      ]
     },
     "execution_count": 17,
     "metadata": {},
     "output_type": "execute_result"
    }
   ],
   "source": [
    "df[\"month\"].value_counts()"
   ]
  },
  {
   "cell_type": "code",
   "execution_count": 18,
   "id": "3346f888",
   "metadata": {},
   "outputs": [
    {
     "data": {
      "text/plain": [
       "poutcome\n",
       "unknown    36959\n",
       "failure     4901\n",
       "other       1840\n",
       "success     1511\n",
       "Name: count, dtype: int64"
      ]
     },
     "execution_count": 18,
     "metadata": {},
     "output_type": "execute_result"
    }
   ],
   "source": [
    "df[\"poutcome\"].value_counts()"
   ]
  },
  {
   "cell_type": "code",
   "execution_count": 19,
   "id": "9150b161",
   "metadata": {},
   "outputs": [
    {
     "name": "stdout",
     "output_type": "stream",
     "text": [
      "       age           job   marital  education  default  balance  housing  \\\n",
      "0       58    management   married   tertiary        0     2143        1   \n",
      "1       44    technician    single  secondary        0       29        1   \n",
      "2       33  entrepreneur   married  secondary        0        2        1   \n",
      "3       47   blue-collar   married    unknown        0     1506        1   \n",
      "4       33       unknown    single    unknown        0        1        0   \n",
      "...    ...           ...       ...        ...      ...      ...      ...   \n",
      "45206   51    technician   married   tertiary        0      825        0   \n",
      "45207   71       retired  divorced    primary        0     1729        0   \n",
      "45208   72       retired   married  secondary        0     5715        0   \n",
      "45209   57   blue-collar   married  secondary        0      668        0   \n",
      "45210   37  entrepreneur   married  secondary        0     2971        0   \n",
      "\n",
      "       loan    contact  day month  duration  campaign  pdays  previous  \\\n",
      "0         0    unknown    5   may       261         1     -1         0   \n",
      "1         0    unknown    5   may       151         1     -1         0   \n",
      "2         1    unknown    5   may        76         1     -1         0   \n",
      "3         0    unknown    5   may        92         1     -1         0   \n",
      "4         0    unknown    5   may       198         1     -1         0   \n",
      "...     ...        ...  ...   ...       ...       ...    ...       ...   \n",
      "45206     0   cellular   17   nov       977         3     -1         0   \n",
      "45207     0   cellular   17   nov       456         2     -1         0   \n",
      "45208     0   cellular   17   nov      1127         5    184         3   \n",
      "45209     0  telephone   17   nov       508         4     -1         0   \n",
      "45210     0   cellular   17   nov       361         2    188        11   \n",
      "\n",
      "      poutcome    y  \n",
      "0      unknown   no  \n",
      "1      unknown   no  \n",
      "2      unknown   no  \n",
      "3      unknown   no  \n",
      "4      unknown   no  \n",
      "...        ...  ...  \n",
      "45206  unknown  yes  \n",
      "45207  unknown  yes  \n",
      "45208  success  yes  \n",
      "45209  unknown   no  \n",
      "45210    other   no  \n",
      "\n",
      "[45211 rows x 17 columns]\n"
     ]
    }
   ],
   "source": [
    "mapyn = {'no': 0,'yes': 1  }\n",
    "df[\"loan\"] = df[\"loan\"].map(mapyn)\n",
    "df[\"housing\"] = df[\"housing\"].map(mapyn)\n",
    "df[\"default\"] = df[\"default\"].map(mapyn)\n",
    "\n",
    "\n",
    "print(df)"
   ]
  },
  {
   "cell_type": "code",
   "execution_count": 24,
   "id": "df72cd01",
   "metadata": {},
   "outputs": [
    {
     "name": "stdout",
     "output_type": "stream",
     "text": [
      "       age  job  marital  education  default  balance  housing  loan  contact  \\\n",
      "0       58  NaN      NaN        NaN        0     2143        1     0      NaN   \n",
      "1       44  NaN      NaN        NaN        0       29        1     0      NaN   \n",
      "2       33  NaN      NaN        NaN        0        2        1     1      NaN   \n",
      "3       47  NaN      NaN        NaN        0     1506        1     0      NaN   \n",
      "4       33  NaN      NaN        NaN        0        1        0     0      NaN   \n",
      "...    ...  ...      ...        ...      ...      ...      ...   ...      ...   \n",
      "45206   51  NaN      NaN        NaN        0      825        0     0      NaN   \n",
      "45207   71  NaN      NaN        NaN        0     1729        0     0      NaN   \n",
      "45208   72  NaN      NaN        NaN        0     5715        0     0      NaN   \n",
      "45209   57  NaN      NaN        NaN        0      668        0     0      NaN   \n",
      "45210   37  NaN      NaN        NaN        0     2971        0     0      NaN   \n",
      "\n",
      "       day  month  duration  campaign  pdays  previous poutcome    y  \n",
      "0        5    NaN       261         1     -1         0  unknown   no  \n",
      "1        5    NaN       151         1     -1         0  unknown   no  \n",
      "2        5    NaN        76         1     -1         0  unknown   no  \n",
      "3        5    NaN        92         1     -1         0  unknown   no  \n",
      "4        5    NaN       198         1     -1         0  unknown   no  \n",
      "...    ...    ...       ...       ...    ...       ...      ...  ...  \n",
      "45206   17    NaN       977         3     -1         0  unknown  yes  \n",
      "45207   17    NaN       456         2     -1         0  unknown  yes  \n",
      "45208   17    NaN      1127         5    184         3  success  yes  \n",
      "45209   17    NaN       508         4     -1         0  unknown   no  \n",
      "45210   17    NaN       361         2    188        11    other   no  \n",
      "\n",
      "[45211 rows x 17 columns]\n"
     ]
    }
   ],
   "source": [
    "month_map = {'jan': 1,'feb': 2 , 'mar': 3, 'apr': 4 , 'may': 5 ,'jun': 6, 'jul': 7, 'aug': 8, 'sep': 9, 'oct': 10 , 'nov': 11, 'dec': 12}\n",
    "df[\"month\"] = df[\"month\"].map(month_map)\n",
    "\n",
    "\n",
    "job_map = {\n",
    "    'blue-collar': 0,\n",
    "    'management': 1,\n",
    "    'technician': 2,\n",
    "    'admin.': 3,\n",
    "    'services': 4,\n",
    "    'retired': 5,\n",
    "    'self-employed': 6,\n",
    "    'entrepreneur': 7,\n",
    "    'unemployed': 8,\n",
    "    'housemaid': 9,\n",
    "    'student': 10,\n",
    "    'unknown': 11\n",
    "}\n",
    "\n",
    "# Aplicar el mapeo a la columna 'job'\n",
    "df[\"job\"] = df[\"job\"].map(job_map)\n",
    "\n",
    "contact_map = {\n",
    "    'cellular': 0,\n",
    "    'unknown': 1,\n",
    "    'telephone': 2\n",
    "}\n",
    "\n",
    "# Aplicar el mapeo a la columna 'contact'\n",
    "df[\"contact\"] = df[\"contact\"].map(contact_map)\n",
    "\n",
    "marital_map = {\n",
    "    'married': 0,\n",
    "    'single': 1,\n",
    "    'divorced': 2\n",
    "}\n",
    "\n",
    "# Aplicar el mapeo a la columna 'marital'\n",
    "df[\"marital\"] = df[\"marital\"].map(marital_map)\n",
    "\n",
    "\n",
    "education_map = {\n",
    "    'secondary': 0,\n",
    "    'tertiary': 1,\n",
    "    'primary': 2,\n",
    "    'unknown': 3\n",
    "}\n",
    "\n",
    "# Aplicar el mapeo a la columna 'education'\n",
    "df[\"education\"] = df[\"education\"].map(education_map)\n",
    "\n",
    "\n",
    "print(df)"
   ]
  },
  {
   "cell_type": "markdown",
   "id": "803254fe",
   "metadata": {},
   "source": [
    "Se crea un nuevo csv con la limpieza de datos"
   ]
  },
  {
   "cell_type": "code",
   "execution_count": 21,
   "id": "86ea9be6",
   "metadata": {},
   "outputs": [],
   "source": [
    "df.to_csv('productividad_limpio.csv', encoding='utf-8' , index=False)"
   ]
  }
 ],
 "metadata": {
  "kernelspec": {
   "display_name": "Python 3",
   "language": "python",
   "name": "python3"
  },
  "language_info": {
   "codemirror_mode": {
    "name": "ipython",
    "version": 3
   },
   "file_extension": ".py",
   "mimetype": "text/x-python",
   "name": "python",
   "nbconvert_exporter": "python",
   "pygments_lexer": "ipython3",
   "version": "3.11.9"
  },
  "papermill": {
   "default_parameters": {},
   "duration": 148.559691,
   "end_time": "2023-04-29T13:31:48.779871",
   "environment_variables": {},
   "exception": null,
   "input_path": "__notebook__.ipynb",
   "output_path": "__notebook__.ipynb",
   "parameters": {},
   "start_time": "2023-04-29T13:29:20.220180",
   "version": "2.4.0"
  }
 },
 "nbformat": 4,
 "nbformat_minor": 5
}
