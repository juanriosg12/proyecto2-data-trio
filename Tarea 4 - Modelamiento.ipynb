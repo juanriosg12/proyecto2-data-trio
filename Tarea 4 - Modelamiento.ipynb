{
 "cells": [
  {
   "cell_type": "code",
   "execution_count": 16,
   "metadata": {},
   "outputs": [],
   "source": [
    "import pandas as pd"
   ]
  },
  {
   "cell_type": "code",
   "execution_count": 23,
   "metadata": {},
   "outputs": [],
   "source": [
    "df = pd.read_csv(\"data/bank_full_limpio.csv\")\n",
    "y_map = {'no':0, 'yes': 1}\n",
    "df['y'] = df['y'].map(y_map)\n"
   ]
  },
  {
   "cell_type": "code",
   "execution_count": 24,
   "metadata": {},
   "outputs": [
    {
     "data": {
      "text/plain": [
       "age          int64\n",
       "job          int64\n",
       "marital      int64\n",
       "education    int64\n",
       "default      int64\n",
       "balance      int64\n",
       "housing      int64\n",
       "loan         int64\n",
       "contact      int64\n",
       "day          int64\n",
       "month        int64\n",
       "duration     int64\n",
       "campaign     int64\n",
       "pdays        int64\n",
       "previous     int64\n",
       "poutcome     int64\n",
       "y            int64\n",
       "dtype: object"
      ]
     },
     "execution_count": 24,
     "metadata": {},
     "output_type": "execute_result"
    }
   ],
   "source": [
    "df.dtypes"
   ]
  },
  {
   "cell_type": "markdown",
   "metadata": {},
   "source": [
    "## Modelo de Regresión con todas las variables\n"
   ]
  },
  {
   "cell_type": "code",
   "execution_count": 25,
   "metadata": {},
   "outputs": [],
   "source": [
    "from sklearn.model_selection import train_test_split\n",
    "# Define las variables independientes y la variable dependiente\n",
    "features = ['age', 'job', 'marital', 'education', 'default', 'balance', 'housing', 'loan', 'contact', 'day', 'month', 'duration', 'campaign', 'pdays', 'previous', 'poutcome' ]\n",
    "X = df[features]\n",
    "y = df['y']\n",
    "\n",
    "# Dividir el conjunto de datos en entrenamiento (80%) y prueba (20%)\n",
    "X_train, X_test, y_train, y_test = train_test_split(X, y, test_size=0.2, random_state=1)"
   ]
  },
  {
   "cell_type": "code",
   "execution_count": 26,
   "metadata": {},
   "outputs": [
    {
     "name": "stdout",
     "output_type": "stream",
     "text": [
      "                            OLS Regression Results                            \n",
      "==============================================================================\n",
      "Dep. Variable:                      y   R-squared:                       0.252\n",
      "Model:                            OLS   Adj. R-squared:                  0.251\n",
      "Method:                 Least Squares   F-statistic:                     759.4\n",
      "Date:                Tue, 05 Nov 2024   Prob (F-statistic):               0.00\n",
      "Time:                        12:00:46   Log-Likelihood:                -5056.7\n",
      "No. Observations:               36168   AIC:                         1.015e+04\n",
      "Df Residuals:                   36151   BIC:                         1.029e+04\n",
      "Df Model:                          16                                         \n",
      "Covariance Type:            nonrobust                                         \n",
      "==============================================================================\n",
      "                 coef    std err          t      P>|t|      [0.025      0.975]\n",
      "------------------------------------------------------------------------------\n",
      "const          0.0119      0.009      1.389      0.165      -0.005       0.029\n",
      "age        -2.613e-06      0.000     -0.018      0.986      -0.000       0.000\n",
      "job            0.0029      0.001      5.257      0.000       0.002       0.004\n",
      "marital        0.0124      0.002      5.775      0.000       0.008       0.017\n",
      "education      0.0015      0.002      0.845      0.398      -0.002       0.005\n",
      "default       -0.0258      0.011     -2.330      0.020      -0.048      -0.004\n",
      "balance     2.326e-06   4.81e-07      4.835      0.000    1.38e-06    3.27e-06\n",
      "housing       -0.0744      0.003    -23.628      0.000      -0.081      -0.068\n",
      "loan          -0.0357      0.004     -8.821      0.000      -0.044      -0.028\n",
      "contact       -0.0223      0.003     -8.915      0.000      -0.027      -0.017\n",
      "day           -0.0003      0.000     -1.549      0.121      -0.001    7.39e-05\n",
      "month          0.0003      0.001      0.496      0.620      -0.001       0.002\n",
      "duration       0.0005   5.71e-06     84.334      0.000       0.000       0.000\n",
      "campaign      -0.0018      0.000     -3.710      0.000      -0.003      -0.001\n",
      "pdays         -0.0004   2.17e-05    -17.234      0.000      -0.000      -0.000\n",
      "previous      -0.0020      0.001     -2.805      0.005      -0.003      -0.001\n",
      "poutcome       0.1488      0.003     47.605      0.000       0.143       0.155\n",
      "==============================================================================\n",
      "Omnibus:                    11298.895   Durbin-Watson:                   2.011\n",
      "Prob(Omnibus):                  0.000   Jarque-Bera (JB):            36044.926\n",
      "Skew:                           1.607   Prob(JB):                         0.00\n",
      "Kurtosis:                       6.686   Cond. No.                     2.56e+04\n",
      "==============================================================================\n",
      "\n",
      "Notes:\n",
      "[1] Standard Errors assume that the covariance matrix of the errors is correctly specified.\n",
      "[2] The condition number is large, 2.56e+04. This might indicate that there are\n",
      "strong multicollinearity or other numerical problems.\n"
     ]
    }
   ],
   "source": [
    "import statsmodels.api as sm\n",
    "# agregar constante explíticamente\n",
    "X_train = sm.add_constant(X_train)\n",
    "# regresión usando mínimos cuadrados ordinarios (ordinary least squares - OLS) \n",
    "linreg1 = sm.OLS(y_train, X_train).fit()\n",
    "# resumen de resultados\n",
    "print(linreg1.summary())"
   ]
  },
  {
   "cell_type": "code",
   "execution_count": 27,
   "metadata": {},
   "outputs": [],
   "source": [
    "y_pred = linreg1.predict(sm.add_constant(X_test))"
   ]
  },
  {
   "cell_type": "code",
   "execution_count": 28,
   "metadata": {},
   "outputs": [
    {
     "name": "stdout",
     "output_type": "stream",
     "text": [
      "R²: 0.24827728182404984\n",
      "MAE: 0.1700110021345819\n",
      "MSE: 0.07714925308448203\n",
      "RMSE: 0.27775754370400463\n"
     ]
    }
   ],
   "source": [
    "from sklearn.metrics import mean_squared_error, r2_score, mean_absolute_error, mean_squared_error\n",
    "import numpy as np\n",
    "# Evaluar el modelo con R^2 y RMSE, MAE, MSE\n",
    "r2 = r2_score(y_test, y_pred)\n",
    "RMSE = np.sqrt(mean_squared_error(y_test, y_pred))\n",
    "MAE = mean_absolute_error(y_test, y_pred)\n",
    "MSE = mean_squared_error(y_test, y_pred)\n",
    "print(f\"R²: {r2}\")\n",
    "print(f\"MAE: {MAE}\")\n",
    "print(f\"MSE: {MSE}\")\n",
    "print(f\"RMSE: {RMSE}\")"
   ]
  },
  {
   "cell_type": "markdown",
   "metadata": {},
   "source": [
    "## Modelo de regresión sin variables poco explicativas\n"
   ]
  },
  {
   "cell_type": "code",
   "execution_count": 29,
   "metadata": {},
   "outputs": [],
   "source": [
    "from sklearn.model_selection import train_test_split\n",
    "# Define las variables independientes y la variable dependiente\n",
    "features = ['age', 'job', 'marital', 'default', 'balance', 'housing', 'loan', 'contact', 'day', 'month', 'duration', 'campaign', 'previous', 'poutcome' ]\n",
    "X = df[features]\n",
    "y = df['y']\n",
    "\n",
    "# Dividir el conjunto de datos en entrenamiento (80%) y prueba (20%)\n",
    "X_train, X_test, y_train, y_test = train_test_split(X, y, test_size=0.2, random_state=1)"
   ]
  },
  {
   "cell_type": "code",
   "execution_count": 30,
   "metadata": {},
   "outputs": [
    {
     "name": "stdout",
     "output_type": "stream",
     "text": [
      "                            OLS Regression Results                            \n",
      "==============================================================================\n",
      "Dep. Variable:                      y   R-squared:                       0.245\n",
      "Model:                            OLS   Adj. R-squared:                  0.245\n",
      "Method:                 Least Squares   F-statistic:                     839.7\n",
      "Date:                Tue, 05 Nov 2024   Prob (F-statistic):               0.00\n",
      "Time:                        12:00:58   Log-Likelihood:                -5205.1\n",
      "No. Observations:               36168   AIC:                         1.044e+04\n",
      "Df Residuals:                   36153   BIC:                         1.057e+04\n",
      "Df Model:                          14                                         \n",
      "Covariance Type:            nonrobust                                         \n",
      "==============================================================================\n",
      "                 coef    std err          t      P>|t|      [0.025      0.975]\n",
      "------------------------------------------------------------------------------\n",
      "const          0.0018      0.009      0.209      0.834      -0.015       0.019\n",
      "age         3.301e-06      0.000      0.023      0.982      -0.000       0.000\n",
      "job            0.0031      0.001      5.529      0.000       0.002       0.004\n",
      "marital        0.0120      0.002      5.574      0.000       0.008       0.016\n",
      "default       -0.0252      0.011     -2.261      0.024      -0.047      -0.003\n",
      "balance     2.439e-06   4.83e-07      5.051      0.000    1.49e-06    3.39e-06\n",
      "housing       -0.0829      0.003    -26.581      0.000      -0.089      -0.077\n",
      "loan          -0.0363      0.004     -8.951      0.000      -0.044      -0.028\n",
      "contact       -0.0181      0.002     -7.239      0.000      -0.023      -0.013\n",
      "day           -0.0001      0.000     -0.790      0.429      -0.000       0.000\n",
      "month          0.0013      0.001      2.076      0.038    7.34e-05       0.003\n",
      "duration       0.0005   5.73e-06     84.667      0.000       0.000       0.000\n",
      "campaign      -0.0016      0.000     -3.373      0.001      -0.003      -0.001\n",
      "previous      -0.0039      0.001     -5.623      0.000      -0.005      -0.003\n",
      "poutcome       0.1147      0.002     47.181      0.000       0.110       0.119\n",
      "==============================================================================\n",
      "Omnibus:                    11107.766   Durbin-Watson:                   2.011\n",
      "Prob(Omnibus):                  0.000   Jarque-Bera (JB):            34043.302\n",
      "Skew:                           1.597   Prob(JB):                         0.00\n",
      "Kurtosis:                       6.520   Cond. No.                     2.56e+04\n",
      "==============================================================================\n",
      "\n",
      "Notes:\n",
      "[1] Standard Errors assume that the covariance matrix of the errors is correctly specified.\n",
      "[2] The condition number is large, 2.56e+04. This might indicate that there are\n",
      "strong multicollinearity or other numerical problems.\n"
     ]
    }
   ],
   "source": [
    "import statsmodels.api as sm\n",
    "# agregar constante explíticamente\n",
    "X_train = sm.add_constant(X_train)\n",
    "# regresión usando mínimos cuadrados ordinarios (ordinary least squares - OLS) \n",
    "linreg1 = sm.OLS(y_train, X_train).fit()\n",
    "# resumen de resultados\n",
    "print(linreg1.summary())"
   ]
  },
  {
   "cell_type": "code",
   "execution_count": 31,
   "metadata": {},
   "outputs": [],
   "source": [
    "y_pred = linreg1.predict(sm.add_constant(X_test))"
   ]
  },
  {
   "cell_type": "code",
   "execution_count": 32,
   "metadata": {},
   "outputs": [
    {
     "name": "stdout",
     "output_type": "stream",
     "text": [
      "R²: 0.24087978090046802\n",
      "MAE: 0.1736060259140953\n",
      "MSE: 0.07790845811733102\n",
      "RMSE: 0.2791208665029023\n"
     ]
    }
   ],
   "source": [
    "from sklearn.metrics import mean_squared_error, r2_score, mean_absolute_error, mean_squared_error\n",
    "import numpy as np\n",
    "# Evaluar el modelo con R^2 y RMSE, MAE, MSE\n",
    "r2 = r2_score(y_test, y_pred)\n",
    "RMSE = np.sqrt(mean_squared_error(y_test, y_pred))\n",
    "MAE = mean_absolute_error(y_test, y_pred)\n",
    "MSE = mean_squared_error(y_test, y_pred)\n",
    "print(f\"R²: {r2}\")\n",
    "print(f\"MAE: {MAE}\")\n",
    "print(f\"MSE: {MSE}\")\n",
    "print(f\"RMSE: {RMSE}\")"
   ]
  }
 ],
 "metadata": {
  "kernelspec": {
   "display_name": "Python 3",
   "language": "python",
   "name": "python3"
  },
  "language_info": {
   "codemirror_mode": {
    "name": "ipython",
    "version": 3
   },
   "file_extension": ".py",
   "mimetype": "text/x-python",
   "name": "python",
   "nbconvert_exporter": "python",
   "pygments_lexer": "ipython3",
   "version": "3.11.9"
  }
 },
 "nbformat": 4,
 "nbformat_minor": 2
}
